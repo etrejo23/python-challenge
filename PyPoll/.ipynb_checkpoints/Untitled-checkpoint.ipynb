{
 "cells": [
  {
   "cell_type": "code",
   "execution_count": 9,
   "metadata": {},
   "outputs": [],
   "source": [
    "import os\n",
    "import csv"
   ]
  },
  {
   "cell_type": "code",
   "execution_count": 2,
   "metadata": {},
   "outputs": [],
   "source": [
    "inpath=os.path.join(\"Resources\",\"election_data.csv\")"
   ]
  },
  {
   "cell_type": "code",
   "execution_count": 7,
   "metadata": {},
   "outputs": [],
   "source": [
    "with open(inpath,'r') as csvfile:\n",
    "    csvreader = csv.reader(csvfile,delimiter=',')\n",
    "    csv_header=next(csvreader)\n",
    "    \n",
    "    totalVotes = 0\n",
    "    Candidates=[]\n",
    "    dicOfCandidates = {}\n",
    "    for row in csvreader:\n",
    "        totalVotes = totalVotes + 1\n",
    "        if row[2] in dicOfCandidates:\n",
    "            dicOfCandidates[row[2]]= dicOfCandidates[row[2]]+1\n",
    "        else: \n",
    "            dicOfCandidates[row[2]]= 1\n",
    "   "
   ]
  },
  {
   "cell_type": "code",
   "execution_count": 4,
   "metadata": {},
   "outputs": [
    {
     "name": "stdout",
     "output_type": "stream",
     "text": [
      "3521001\n"
     ]
    }
   ],
   "source": [
    "print(totalVotes)"
   ]
  },
  {
   "cell_type": "code",
   "execution_count": 6,
   "metadata": {},
   "outputs": [
    {
     "name": "stdout",
     "output_type": "stream",
     "text": [
      "['Khan', 'Correy', 'Khan', 'Khan', 'Khan', 'Li', 'Correy', 'Khan', 'Khan', 'Correy', 'Khan', 'Correy', 'Khan', 'Khan', 'Correy', 'Khan', 'Correy', 'Correy', 'Khan', 'Correy', 'Correy', 'Correy', 'Correy', 'Khan', 'Khan', 'Khan', 'Khan', 'Khan', 'Khan', 'Correy', 'Correy', 'Khan', 'Khan', 'Khan', 'Khan', 'Khan', 'Khan', 'Li', 'Li', 'Khan', 'Khan', 'Khan', 'Khan', 'Khan', 'Khan', 'Khan', \"O'Tooley\", 'Khan', 'Khan', 'Khan', 'Khan', 'Khan', 'Khan', 'Li', 'Li', 'Li', 'Khan', 'Khan', 'Correy', 'Khan', 'Khan', 'Khan', 'Khan', 'Correy', 'Khan', 'Khan', 'Khan', \"O'Tooley\", 'Li', 'Khan', 'Correy', 'Khan', 'Khan', 'Khan', 'Khan', 'Khan', 'Correy', 'Khan', 'Khan', 'Khan', 'Li', 'Khan', 'Khan', 'Khan', 'Khan', 'Khan', 'Khan', 'Khan', 'Khan', 'Khan', 'Khan', 'Khan', 'Khan', 'Khan', 'Correy', 'Khan', 'Khan', 'Khan', 'Khan', 'Khan']\n"
     ]
    }
   ],
   "source": [
    "print(Candidates[:100])"
   ]
  },
  {
   "cell_type": "code",
   "execution_count": 6,
   "metadata": {},
   "outputs": [
    {
     "name": "stdout",
     "output_type": "stream",
     "text": [
      "Counter({'Khan': 2218231, 'Correy': 704200, 'Li': 492940, \"O'Tooley\": 105630})\n"
     ]
    }
   ],
   "source": [
    "#NumOfCandidates=collections.Counter(Candidates)\n",
    "#print(NumOfCandidates)"
   ]
  },
  {
   "cell_type": "code",
   "execution_count": 8,
   "metadata": {},
   "outputs": [
    {
     "name": "stdout",
     "output_type": "stream",
     "text": [
      "{'Khan': 2218231, 'Correy': 704200, 'Li': 492940, \"O'Tooley\": 105630}\n"
     ]
    }
   ],
   "source": [
    "print(dicOfCandidates)"
   ]
  },
  {
   "cell_type": "code",
   "execution_count": 5,
   "metadata": {},
   "outputs": [
    {
     "ename": "NameError",
     "evalue": "name 'dicOfCandidates' is not defined",
     "output_type": "error",
     "traceback": [
      "\u001b[1;31m---------------------------------------------------------------------------\u001b[0m",
      "\u001b[1;31mNameError\u001b[0m                                 Traceback (most recent call last)",
      "\u001b[1;32m<ipython-input-5-5e87d5e29fc4>\u001b[0m in \u001b[0;36m<module>\u001b[1;34m\u001b[0m\n\u001b[1;32m----> 1\u001b[1;33m \u001b[1;32mfor\u001b[0m \u001b[0mcandidate\u001b[0m \u001b[1;32min\u001b[0m \u001b[0mdicOfCandidates\u001b[0m\u001b[1;33m:\u001b[0m\u001b[1;33m\u001b[0m\u001b[1;33m\u001b[0m\u001b[0m\n\u001b[0m\u001b[0;32m      2\u001b[0m \u001b[1;33m\u001b[0m\u001b[0m\n\u001b[0;32m      3\u001b[0m     \u001b[0mprint\u001b[0m\u001b[1;33m(\u001b[0m\u001b[0mcandidate\u001b[0m\u001b[1;33m,\u001b[0m\u001b[0mdicOfCandidates\u001b[0m\u001b[1;33m[\u001b[0m\u001b[0mcandidate\u001b[0m\u001b[1;33m]\u001b[0m\u001b[1;33m)\u001b[0m\u001b[1;33m\u001b[0m\u001b[1;33m\u001b[0m\u001b[0m\n\u001b[0;32m      4\u001b[0m \u001b[1;33m\u001b[0m\u001b[0m\n\u001b[0;32m      5\u001b[0m \u001b[0mwinner\u001b[0m \u001b[1;33m=\u001b[0m \u001b[0mmax\u001b[0m\u001b[1;33m(\u001b[0m\u001b[0mdicOfCandidates\u001b[0m\u001b[1;33m[\u001b[0m\u001b[0mcandidate\u001b[0m\u001b[1;33m]\u001b[0m\u001b[1;33m)\u001b[0m\u001b[1;33m\u001b[0m\u001b[1;33m\u001b[0m\u001b[0m\n",
      "\u001b[1;31mNameError\u001b[0m: name 'dicOfCandidates' is not defined"
     ]
    }
   ],
   "source": [
    "for candidate in dicOfCandidates:\n",
    "    \n",
    "    print(candidate,dicOfCandidates[candidate])\n",
    "\n",
    "winner = max(dicOfCandidates[candidate])"
   ]
  },
  {
   "cell_type": "code",
   "execution_count": null,
   "metadata": {},
   "outputs": [],
   "source": []
  }
 ],
 "metadata": {
  "kernelspec": {
   "display_name": "Python 3",
   "language": "python",
   "name": "python3"
  },
  "language_info": {
   "codemirror_mode": {
    "name": "ipython",
    "version": 3
   },
   "file_extension": ".py",
   "mimetype": "text/x-python",
   "name": "python",
   "nbconvert_exporter": "python",
   "pygments_lexer": "ipython3",
   "version": "3.7.6"
  }
 },
 "nbformat": 4,
 "nbformat_minor": 4
}
